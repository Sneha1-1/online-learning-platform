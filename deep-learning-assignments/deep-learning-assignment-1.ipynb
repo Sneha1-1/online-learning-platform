{
 "cells": [
  {
   "cell_type": "markdown",
   "metadata": {},
   "source": [
    "### Deep Learning Assignment 1\n",
    "\n",
    "##### Follow the instructions "
   ]
  },
  {
   "cell_type": "markdown",
   "metadata": {},
   "source": [
    "#### Question 1:\n",
    "\n",
    "Build a simple artificial neural network :\n",
    "\n",
    "Following specifications should be used to design the neural network.\n",
    "\n",
    "1. It should have 1 input layer\n",
    "2. It should have 1 output layer\n",
    "3. It should have 1 hidden layer\n",
    "4. The model/neural network should be able to classify the flowers into 3 categories.\n",
    "5. Train the model for 4 epochs.\n",
    "6. Set the batch size to 4"
   ]
  },
  {
   "cell_type": "code",
   "execution_count": 3,
   "metadata": {},
   "outputs": [],
   "source": [
    "## Design your network here."
   ]
  },
  {
   "cell_type": "code",
   "execution_count": 4,
   "metadata": {},
   "outputs": [],
   "source": [
    "## Run the training of the model for 4 epochs here"
   ]
  },
  {
   "cell_type": "code",
   "execution_count": 5,
   "metadata": {},
   "outputs": [],
   "source": [
    "## Print the accuracy of the model on test set and train set"
   ]
  },
  {
   "cell_type": "code",
   "execution_count": 7,
   "metadata": {},
   "outputs": [],
   "source": [
    "## Print  the loss and accuracy score on train and test set."
   ]
  },
  {
   "cell_type": "markdown",
   "metadata": {},
   "source": [
    "#### Write down the observation based on the above metrics noted"
   ]
  },
  {
   "cell_type": "code",
   "execution_count": 6,
   "metadata": {},
   "outputs": [],
   "source": [
    "## Run the training of the model now for 15 epochs\n",
    "## Print the accuracy of the model on test set and train set."
   ]
  },
  {
   "cell_type": "code",
   "execution_count": 8,
   "metadata": {},
   "outputs": [],
   "source": [
    "## Print  the loss and accuracy score on train and test set."
   ]
  },
  {
   "cell_type": "markdown",
   "metadata": {},
   "source": [
    "### Write down the observation based on the above metrics noted"
   ]
  },
  {
   "cell_type": "code",
   "execution_count": null,
   "metadata": {},
   "outputs": [],
   "source": [
    "## Now run the training of the model for 100 epochs.\n",
    "## Print the accuracy of the model on test set and train set."
   ]
  },
  {
   "cell_type": "code",
   "execution_count": 9,
   "metadata": {},
   "outputs": [],
   "source": [
    "## Print  the loss and accuracy score on train and test set."
   ]
  },
  {
   "cell_type": "markdown",
   "metadata": {},
   "source": [
    "## Based on above three training instances: \n",
    "\n",
    "#### Write your observations on below points:\n",
    "\n",
    "1. What is overfitting / Underfitting model based on above trainings\n",
    "\n",
    "2. Observe the graphs and write your observations about the graph\n",
    "\n",
    "3. Why is the observation as it is? Reasons why this is happening?"
   ]
  }
 ],
 "metadata": {
  "kernelspec": {
   "display_name": "Python 3",
   "language": "python",
   "name": "python3"
  },
  "language_info": {
   "codemirror_mode": {
    "name": "ipython",
    "version": 3
   },
   "file_extension": ".py",
   "mimetype": "text/x-python",
   "name": "python",
   "nbconvert_exporter": "python",
   "pygments_lexer": "ipython3",
   "version": "3.12.3"
  }
 },
 "nbformat": 4,
 "nbformat_minor": 2
}
