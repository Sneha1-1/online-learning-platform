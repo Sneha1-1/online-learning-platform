{
 "cells": [
  {
   "cell_type": "markdown",
   "metadata": {},
   "source": [
    "### Deep Learning Assignment 7\n",
    "\n",
    "##### Follow the instructions "
   ]
  },
  {
   "cell_type": "markdown",
   "metadata": {},
   "source": [
    "#### Question 1:\n",
    "\n",
    "Build a simple artificial neural network :\n",
    "\n",
    "Following specifications should be used to design the neural network.\n",
    "\n",
    "1. It should have 1 input layer\n",
    "2. It should have 1 output layer\n",
    "3. It should have 1 hidden layer\n",
    "4. The model/neural network should be able to classify the output into 2 categories.\n",
    "5. Train the model for 100 epochs.\n",
    "6. Set the batch size to 4\n",
    "7. Use the activation function - relu for hidden layer\n",
    "8. Use the sigmoid activation function for the output layer\n",
    "9. Use the batch normalization layer"
   ]
  },
  {
   "cell_type": "code",
   "execution_count": 3,
   "metadata": {},
   "outputs": [],
   "source": [
    "## Design your network here."
   ]
  },
  {
   "cell_type": "code",
   "execution_count": 4,
   "metadata": {},
   "outputs": [],
   "source": [
    "## Run the training of the model for 4 epochs here"
   ]
  },
  {
   "cell_type": "code",
   "execution_count": 5,
   "metadata": {},
   "outputs": [],
   "source": [
    "## Print the accuracy of the model on test set and train set"
   ]
  },
  {
   "cell_type": "code",
   "execution_count": 7,
   "metadata": {},
   "outputs": [],
   "source": [
    "## Print  the loss and accuracy score on train and test set."
   ]
  },
  {
   "cell_type": "markdown",
   "metadata": {},
   "source": [
    "#### Write down the observation based on the above metrics noted"
   ]
  },
  {
   "cell_type": "markdown",
   "metadata": {},
   "source": [
    "#### Question 2 : Remove the batch normalization layer and retrain the model"
   ]
  },
  {
   "cell_type": "code",
   "execution_count": 6,
   "metadata": {},
   "outputs": [],
   "source": [
    "## Run the training of the model now for 20 epochs\n",
    "## Print the accuracy of the model on test set and train set."
   ]
  },
  {
   "cell_type": "code",
   "execution_count": 8,
   "metadata": {},
   "outputs": [],
   "source": [
    "## Print  the loss and accuracy score on train and test set."
   ]
  },
  {
   "cell_type": "markdown",
   "metadata": {},
   "source": [
    "### Write down the observation based on the above metrics noted"
   ]
  },
  {
   "cell_type": "markdown",
   "metadata": {},
   "source": [
    "## Based on above 2 training instances: \n",
    "\n",
    "#### Write your observations on below points:\n",
    "\n",
    "1. Observe the graphs and write your observations about the graph\n",
    "\n",
    "2. Why is the observation as it is? Reasons why this is happening?\n",
    "\n",
    "3. Write about the batch normalization layer and its impact on the training of the NN Model."
   ]
  },
  {
   "cell_type": "markdown",
   "metadata": {},
   "source": []
  }
 ],
 "metadata": {
  "kernelspec": {
   "display_name": "Python 3",
   "language": "python",
   "name": "python3"
  },
  "language_info": {
   "codemirror_mode": {
    "name": "ipython",
    "version": 3
   },
   "file_extension": ".py",
   "mimetype": "text/x-python",
   "name": "python",
   "nbconvert_exporter": "python",
   "pygments_lexer": "ipython3",
   "version": "3.12.3"
  }
 },
 "nbformat": 4,
 "nbformat_minor": 2
}
